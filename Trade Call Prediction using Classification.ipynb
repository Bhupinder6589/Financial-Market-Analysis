{
 "cells": [
  {
   "cell_type": "code",
   "execution_count": 1,
   "metadata": {},
   "outputs": [],
   "source": [
    "import numpy as np\n",
    "import pandas as pd\n",
    "import matplotlib.pyplot as plt"
   ]
  },
  {
   "cell_type": "code",
   "execution_count": 2,
   "metadata": {},
   "outputs": [],
   "source": [
    "df=pd.read_csv('week3.csv')"
   ]
  },
  {
   "cell_type": "code",
   "execution_count": 3,
   "metadata": {},
   "outputs": [
    {
     "data": {
      "text/plain": [
       "Date                       object\n",
       "Unnamed: 0                  int64\n",
       "Symbol                     object\n",
       "Series                     object\n",
       "Prev Close                float64\n",
       "Open Price                float64\n",
       "High Price                float64\n",
       "Low Price                 float64\n",
       "Last Price                float64\n",
       "Close Price               float64\n",
       "Average Price             float64\n",
       "Total Traded Quantity       int64\n",
       "Turnover                  float64\n",
       "No. of Trades               int64\n",
       "Deliverable Qty             int64\n",
       "% Dly Qt to Traded Qty    float64\n",
       "month                       int64\n",
       "year                        int64\n",
       "Day_Perc_Change           float64\n",
       "Trend                      object\n",
       "volume scaled             float64\n",
       "sma_21                    float64\n",
       "sma_34                    float64\n",
       "MA                        float64\n",
       "roll_CP_std               float64\n",
       "UP_band                   float64\n",
       "LO_band                   float64\n",
       "buy                       float64\n",
       "sell                      float64\n",
       "MA_std                    float64\n",
       "dtype: object"
      ]
     },
     "execution_count": 3,
     "metadata": {},
     "output_type": "execute_result"
    }
   ],
   "source": [
    "df.dtypes"
   ]
  },
  {
   "cell_type": "code",
   "execution_count": 4,
   "metadata": {},
   "outputs": [],
   "source": [
    "df['Date']=pd.to_datetime(df['Date'])"
   ]
  },
  {
   "cell_type": "code",
   "execution_count": 5,
   "metadata": {},
   "outputs": [],
   "source": [
    "data=df.loc[13:,['Close Price','MA','UP_band','LO_band']]"
   ]
  },
  {
   "cell_type": "code",
   "execution_count": 6,
   "metadata": {},
   "outputs": [],
   "source": [
    "data=data.set_index(np.arange(len(data)))"
   ]
  },
  {
   "cell_type": "code",
   "execution_count": 7,
   "metadata": {},
   "outputs": [
    {
     "data": {
      "text/html": [
       "<div>\n",
       "<style scoped>\n",
       "    .dataframe tbody tr th:only-of-type {\n",
       "        vertical-align: middle;\n",
       "    }\n",
       "\n",
       "    .dataframe tbody tr th {\n",
       "        vertical-align: top;\n",
       "    }\n",
       "\n",
       "    .dataframe thead th {\n",
       "        text-align: right;\n",
       "    }\n",
       "</style>\n",
       "<table border=\"1\" class=\"dataframe\">\n",
       "  <thead>\n",
       "    <tr style=\"text-align: right;\">\n",
       "      <th></th>\n",
       "      <th>Close Price</th>\n",
       "      <th>MA</th>\n",
       "      <th>UP_band</th>\n",
       "      <th>LO_band</th>\n",
       "    </tr>\n",
       "  </thead>\n",
       "  <tbody>\n",
       "    <tr>\n",
       "      <th>0</th>\n",
       "      <td>912.25</td>\n",
       "      <td>989.057143</td>\n",
       "      <td>1090.120625</td>\n",
       "      <td>887.993660</td>\n",
       "    </tr>\n",
       "    <tr>\n",
       "      <th>1</th>\n",
       "      <td>930.85</td>\n",
       "      <td>982.300000</td>\n",
       "      <td>1085.509041</td>\n",
       "      <td>879.090959</td>\n",
       "    </tr>\n",
       "    <tr>\n",
       "      <th>2</th>\n",
       "      <td>936.05</td>\n",
       "      <td>974.114286</td>\n",
       "      <td>1072.013138</td>\n",
       "      <td>876.215433</td>\n",
       "    </tr>\n",
       "    <tr>\n",
       "      <th>3</th>\n",
       "      <td>952.55</td>\n",
       "      <td>967.221429</td>\n",
       "      <td>1055.509591</td>\n",
       "      <td>878.933267</td>\n",
       "    </tr>\n",
       "    <tr>\n",
       "      <th>4</th>\n",
       "      <td>955.20</td>\n",
       "      <td>962.639286</td>\n",
       "      <td>1045.781945</td>\n",
       "      <td>879.496626</td>\n",
       "    </tr>\n",
       "    <tr>\n",
       "      <th>...</th>\n",
       "      <td>...</td>\n",
       "      <td>...</td>\n",
       "      <td>...</td>\n",
       "      <td>...</td>\n",
       "    </tr>\n",
       "    <tr>\n",
       "      <th>476</th>\n",
       "      <td>1282.25</td>\n",
       "      <td>1333.992857</td>\n",
       "      <td>1387.302069</td>\n",
       "      <td>1280.683645</td>\n",
       "    </tr>\n",
       "    <tr>\n",
       "      <th>477</th>\n",
       "      <td>1262.45</td>\n",
       "      <td>1326.917857</td>\n",
       "      <td>1389.912468</td>\n",
       "      <td>1263.923247</td>\n",
       "    </tr>\n",
       "    <tr>\n",
       "      <th>478</th>\n",
       "      <td>1268.80</td>\n",
       "      <td>1319.660714</td>\n",
       "      <td>1384.460301</td>\n",
       "      <td>1254.861128</td>\n",
       "    </tr>\n",
       "    <tr>\n",
       "      <th>479</th>\n",
       "      <td>1264.50</td>\n",
       "      <td>1311.328571</td>\n",
       "      <td>1371.932033</td>\n",
       "      <td>1250.725110</td>\n",
       "    </tr>\n",
       "    <tr>\n",
       "      <th>480</th>\n",
       "      <td>1242.60</td>\n",
       "      <td>1304.003571</td>\n",
       "      <td>1371.406110</td>\n",
       "      <td>1236.601033</td>\n",
       "    </tr>\n",
       "  </tbody>\n",
       "</table>\n",
       "<p>481 rows × 4 columns</p>\n",
       "</div>"
      ],
      "text/plain": [
       "     Close Price           MA      UP_band      LO_band\n",
       "0         912.25   989.057143  1090.120625   887.993660\n",
       "1         930.85   982.300000  1085.509041   879.090959\n",
       "2         936.05   974.114286  1072.013138   876.215433\n",
       "3         952.55   967.221429  1055.509591   878.933267\n",
       "4         955.20   962.639286  1045.781945   879.496626\n",
       "..           ...          ...          ...          ...\n",
       "476      1282.25  1333.992857  1387.302069  1280.683645\n",
       "477      1262.45  1326.917857  1389.912468  1263.923247\n",
       "478      1268.80  1319.660714  1384.460301  1254.861128\n",
       "479      1264.50  1311.328571  1371.932033  1250.725110\n",
       "480      1242.60  1304.003571  1371.406110  1236.601033\n",
       "\n",
       "[481 rows x 4 columns]"
      ]
     },
     "execution_count": 7,
     "metadata": {},
     "output_type": "execute_result"
    }
   ],
   "source": [
    "data"
   ]
  },
  {
   "cell_type": "code",
   "execution_count": 8,
   "metadata": {},
   "outputs": [],
   "source": [
    "l=[]\n",
    "for i in range(len(data['Close Price'])):\n",
    "    if(data['Close Price'][i]<data['LO_band'][i]):\n",
    "        l.append('Buy')\n",
    "    elif(data['Close Price'][i]>=data['LO_band'][i] and data['Close Price'][i]<data['MA'][i]):\n",
    "        l.append('Hold Buy')\n",
    "    elif(data['Close Price'][i]>=data['MA'][i] and data['Close Price'][i]<data['UP_band'][i]):\n",
    "        l.append('Hold Short')\n",
    "    else:\n",
    "        l.append('Short')"
   ]
  },
  {
   "cell_type": "code",
   "execution_count": 9,
   "metadata": {},
   "outputs": [],
   "source": [
    "data['Call']=pd.Series(l)    "
   ]
  },
  {
   "cell_type": "code",
   "execution_count": 10,
   "metadata": {},
   "outputs": [
    {
     "data": {
      "text/html": [
       "<div>\n",
       "<style scoped>\n",
       "    .dataframe tbody tr th:only-of-type {\n",
       "        vertical-align: middle;\n",
       "    }\n",
       "\n",
       "    .dataframe tbody tr th {\n",
       "        vertical-align: top;\n",
       "    }\n",
       "\n",
       "    .dataframe thead th {\n",
       "        text-align: right;\n",
       "    }\n",
       "</style>\n",
       "<table border=\"1\" class=\"dataframe\">\n",
       "  <thead>\n",
       "    <tr style=\"text-align: right;\">\n",
       "      <th></th>\n",
       "      <th>Close Price</th>\n",
       "      <th>MA</th>\n",
       "      <th>UP_band</th>\n",
       "      <th>LO_band</th>\n",
       "      <th>Call</th>\n",
       "    </tr>\n",
       "  </thead>\n",
       "  <tbody>\n",
       "    <tr>\n",
       "      <th>0</th>\n",
       "      <td>912.25</td>\n",
       "      <td>989.057143</td>\n",
       "      <td>1090.120625</td>\n",
       "      <td>887.993660</td>\n",
       "      <td>Hold Buy</td>\n",
       "    </tr>\n",
       "    <tr>\n",
       "      <th>1</th>\n",
       "      <td>930.85</td>\n",
       "      <td>982.300000</td>\n",
       "      <td>1085.509041</td>\n",
       "      <td>879.090959</td>\n",
       "      <td>Hold Buy</td>\n",
       "    </tr>\n",
       "    <tr>\n",
       "      <th>2</th>\n",
       "      <td>936.05</td>\n",
       "      <td>974.114286</td>\n",
       "      <td>1072.013138</td>\n",
       "      <td>876.215433</td>\n",
       "      <td>Hold Buy</td>\n",
       "    </tr>\n",
       "    <tr>\n",
       "      <th>3</th>\n",
       "      <td>952.55</td>\n",
       "      <td>967.221429</td>\n",
       "      <td>1055.509591</td>\n",
       "      <td>878.933267</td>\n",
       "      <td>Hold Buy</td>\n",
       "    </tr>\n",
       "    <tr>\n",
       "      <th>4</th>\n",
       "      <td>955.20</td>\n",
       "      <td>962.639286</td>\n",
       "      <td>1045.781945</td>\n",
       "      <td>879.496626</td>\n",
       "      <td>Hold Buy</td>\n",
       "    </tr>\n",
       "    <tr>\n",
       "      <th>...</th>\n",
       "      <td>...</td>\n",
       "      <td>...</td>\n",
       "      <td>...</td>\n",
       "      <td>...</td>\n",
       "      <td>...</td>\n",
       "    </tr>\n",
       "    <tr>\n",
       "      <th>476</th>\n",
       "      <td>1282.25</td>\n",
       "      <td>1333.992857</td>\n",
       "      <td>1387.302069</td>\n",
       "      <td>1280.683645</td>\n",
       "      <td>Hold Buy</td>\n",
       "    </tr>\n",
       "    <tr>\n",
       "      <th>477</th>\n",
       "      <td>1262.45</td>\n",
       "      <td>1326.917857</td>\n",
       "      <td>1389.912468</td>\n",
       "      <td>1263.923247</td>\n",
       "      <td>Buy</td>\n",
       "    </tr>\n",
       "    <tr>\n",
       "      <th>478</th>\n",
       "      <td>1268.80</td>\n",
       "      <td>1319.660714</td>\n",
       "      <td>1384.460301</td>\n",
       "      <td>1254.861128</td>\n",
       "      <td>Hold Buy</td>\n",
       "    </tr>\n",
       "    <tr>\n",
       "      <th>479</th>\n",
       "      <td>1264.50</td>\n",
       "      <td>1311.328571</td>\n",
       "      <td>1371.932033</td>\n",
       "      <td>1250.725110</td>\n",
       "      <td>Hold Buy</td>\n",
       "    </tr>\n",
       "    <tr>\n",
       "      <th>480</th>\n",
       "      <td>1242.60</td>\n",
       "      <td>1304.003571</td>\n",
       "      <td>1371.406110</td>\n",
       "      <td>1236.601033</td>\n",
       "      <td>Hold Buy</td>\n",
       "    </tr>\n",
       "  </tbody>\n",
       "</table>\n",
       "<p>481 rows × 5 columns</p>\n",
       "</div>"
      ],
      "text/plain": [
       "     Close Price           MA      UP_band      LO_band      Call\n",
       "0         912.25   989.057143  1090.120625   887.993660  Hold Buy\n",
       "1         930.85   982.300000  1085.509041   879.090959  Hold Buy\n",
       "2         936.05   974.114286  1072.013138   876.215433  Hold Buy\n",
       "3         952.55   967.221429  1055.509591   878.933267  Hold Buy\n",
       "4         955.20   962.639286  1045.781945   879.496626  Hold Buy\n",
       "..           ...          ...          ...          ...       ...\n",
       "476      1282.25  1333.992857  1387.302069  1280.683645  Hold Buy\n",
       "477      1262.45  1326.917857  1389.912468  1263.923247       Buy\n",
       "478      1268.80  1319.660714  1384.460301  1254.861128  Hold Buy\n",
       "479      1264.50  1311.328571  1371.932033  1250.725110  Hold Buy\n",
       "480      1242.60  1304.003571  1371.406110  1236.601033  Hold Buy\n",
       "\n",
       "[481 rows x 5 columns]"
      ]
     },
     "execution_count": 10,
     "metadata": {},
     "output_type": "execute_result"
    }
   ],
   "source": [
    "data"
   ]
  },
  {
   "cell_type": "code",
   "execution_count": 11,
   "metadata": {},
   "outputs": [],
   "source": [
    "X=data.loc[:,['Close Price','MA','LO_band','UP_band']]\n",
    "\n",
    "y=data.iloc[:,-1]"
   ]
  },
  {
   "cell_type": "code",
   "execution_count": 12,
   "metadata": {},
   "outputs": [],
   "source": [
    "from sklearn.preprocessing import LabelEncoder\n",
    "\n",
    "lab=LabelEncoder()\n",
    "\n",
    "y=lab.fit_transform(y)"
   ]
  },
  {
   "cell_type": "code",
   "execution_count": 13,
   "metadata": {},
   "outputs": [
    {
     "data": {
      "text/plain": [
       "array(['Buy', 'Hold Buy', 'Hold Short', 'Short'], dtype=object)"
      ]
     },
     "execution_count": 13,
     "metadata": {},
     "output_type": "execute_result"
    }
   ],
   "source": [
    "label=lab.classes_\n",
    "label"
   ]
  },
  {
   "cell_type": "code",
   "execution_count": 14,
   "metadata": {},
   "outputs": [],
   "source": [
    "from sklearn.model_selection import train_test_split\n",
    "X_train,X_test,y_train,y_test=train_test_split(X,y)\n",
    "\n",
    "\n",
    "from sklearn.linear_model import LogisticRegression\n",
    "log=LogisticRegression(max_iter=5000)\n",
    "\n",
    "from sklearn.tree import DecisionTreeClassifier\n",
    "dt=DecisionTreeClassifier(max_depth=8)\n",
    "\n",
    "from sklearn.ensemble import RandomForestClassifier\n",
    "rand=RandomForestClassifier()\n",
    "\n",
    "\n",
    "from sklearn.svm import SVC\n",
    "svm=SVC()"
   ]
  },
  {
   "cell_type": "code",
   "execution_count": 15,
   "metadata": {},
   "outputs": [],
   "source": [
    "# Logistic Regression"
   ]
  },
  {
   "cell_type": "code",
   "execution_count": 16,
   "metadata": {},
   "outputs": [
    {
     "data": {
      "text/plain": [
       "1.0"
      ]
     },
     "execution_count": 16,
     "metadata": {},
     "output_type": "execute_result"
    }
   ],
   "source": [
    "log.fit(X_train,y_train)\n",
    "\n",
    "log.score(X_train,y_train)\n"
   ]
  },
  {
   "cell_type": "code",
   "execution_count": 17,
   "metadata": {},
   "outputs": [
    {
     "data": {
      "text/plain": [
       "0.9917355371900827"
      ]
     },
     "execution_count": 17,
     "metadata": {},
     "output_type": "execute_result"
    }
   ],
   "source": [
    "log.score(X_test,y_test)"
   ]
  },
  {
   "cell_type": "code",
   "execution_count": 18,
   "metadata": {},
   "outputs": [
    {
     "data": {
      "text/plain": [
       "array([1, 1, 2, 3, 1, 1, 2, 2, 2, 0, 2, 2, 1, 2, 0, 2, 2, 2, 2, 2, 2, 2,\n",
       "       1, 2, 2, 1, 1, 2, 2, 3, 1, 1, 1, 0, 2, 1, 2, 1, 1, 2, 2, 2, 2, 2,\n",
       "       1, 1, 2, 2, 2, 1, 2, 2, 2, 3, 1, 2, 2, 3, 2, 1, 1, 2, 1, 1, 0, 2,\n",
       "       1, 1, 2, 1, 2, 3, 3, 2, 2, 3, 1, 2, 2, 2, 2, 1, 1, 1, 1, 2, 2, 2,\n",
       "       1, 2, 2, 1, 1, 3, 2, 2, 1, 2, 2, 2, 2, 1, 2, 1, 1, 2, 2, 1, 2, 3,\n",
       "       2, 1, 1, 2, 2, 2, 1, 2, 2, 2, 2])"
      ]
     },
     "execution_count": 18,
     "metadata": {},
     "output_type": "execute_result"
    }
   ],
   "source": [
    "log.predict(X_test)"
   ]
  },
  {
   "cell_type": "code",
   "execution_count": 19,
   "metadata": {},
   "outputs": [],
   "source": [
    "# Decision tree"
   ]
  },
  {
   "cell_type": "code",
   "execution_count": 20,
   "metadata": {},
   "outputs": [
    {
     "data": {
      "text/plain": [
       "0.9583333333333334"
      ]
     },
     "execution_count": 20,
     "metadata": {},
     "output_type": "execute_result"
    }
   ],
   "source": [
    "dt.fit(X_train,y_train)\n",
    "\n",
    "dt.score(X_train,y_train)"
   ]
  },
  {
   "cell_type": "code",
   "execution_count": 21,
   "metadata": {},
   "outputs": [
    {
     "data": {
      "text/plain": [
       "0.7520661157024794"
      ]
     },
     "execution_count": 21,
     "metadata": {},
     "output_type": "execute_result"
    }
   ],
   "source": [
    "dt.score(X_test,y_test)"
   ]
  },
  {
   "cell_type": "code",
   "execution_count": 22,
   "metadata": {},
   "outputs": [],
   "source": [
    "# RandomForest "
   ]
  },
  {
   "cell_type": "code",
   "execution_count": 23,
   "metadata": {},
   "outputs": [
    {
     "data": {
      "text/plain": [
       "1.0"
      ]
     },
     "execution_count": 23,
     "metadata": {},
     "output_type": "execute_result"
    }
   ],
   "source": [
    "rand.fit(X_train,y_train)\n",
    "\n",
    "rand.score(X_train,y_train)"
   ]
  },
  {
   "cell_type": "code",
   "execution_count": 24,
   "metadata": {},
   "outputs": [
    {
     "data": {
      "text/plain": [
       "0.8347107438016529"
      ]
     },
     "execution_count": 24,
     "metadata": {},
     "output_type": "execute_result"
    }
   ],
   "source": [
    "rand.score(X_test,y_test)"
   ]
  },
  {
   "cell_type": "code",
   "execution_count": 25,
   "metadata": {},
   "outputs": [],
   "source": [
    "# Support Vector Machine"
   ]
  },
  {
   "cell_type": "code",
   "execution_count": 26,
   "metadata": {},
   "outputs": [
    {
     "data": {
      "text/plain": [
       "0.7355371900826446"
      ]
     },
     "execution_count": 26,
     "metadata": {},
     "output_type": "execute_result"
    }
   ],
   "source": [
    "svm.fit(X_train,y_train)\n",
    "\n",
    "svm.score(X_test,y_test)\n"
   ]
  },
  {
   "cell_type": "code",
   "execution_count": 27,
   "metadata": {},
   "outputs": [],
   "source": [
    "# importing Gail dataset and predicting the daily calls "
   ]
  },
  {
   "cell_type": "code",
   "execution_count": 28,
   "metadata": {},
   "outputs": [],
   "source": [
    "gail=pd.read_csv('GAIL.csv')\n",
    "\n",
    "ma=gail['Close Price'].rolling(14).mean()\n",
    "std=gail['Close Price'].rolling(14).std()\n",
    "lo=ma-2*std\n",
    "up=ma+2*std\n"
   ]
  },
  {
   "cell_type": "code",
   "execution_count": 29,
   "metadata": {},
   "outputs": [],
   "source": [
    "data1=pd.DataFrame({'Stock_Price':gail['Close Price'],\n",
    "              'MA':ma,'LO_band':lo,'UP_band':up})"
   ]
  },
  {
   "cell_type": "code",
   "execution_count": 30,
   "metadata": {},
   "outputs": [
    {
     "data": {
      "text/html": [
       "<div>\n",
       "<style scoped>\n",
       "    .dataframe tbody tr th:only-of-type {\n",
       "        vertical-align: middle;\n",
       "    }\n",
       "\n",
       "    .dataframe tbody tr th {\n",
       "        vertical-align: top;\n",
       "    }\n",
       "\n",
       "    .dataframe thead th {\n",
       "        text-align: right;\n",
       "    }\n",
       "</style>\n",
       "<table border=\"1\" class=\"dataframe\">\n",
       "  <thead>\n",
       "    <tr style=\"text-align: right;\">\n",
       "      <th></th>\n",
       "      <th>Stock_Price</th>\n",
       "      <th>MA</th>\n",
       "      <th>LO_band</th>\n",
       "      <th>UP_band</th>\n",
       "    </tr>\n",
       "  </thead>\n",
       "  <tbody>\n",
       "    <tr>\n",
       "      <th>0</th>\n",
       "      <td>414.00</td>\n",
       "      <td>NaN</td>\n",
       "      <td>NaN</td>\n",
       "      <td>NaN</td>\n",
       "    </tr>\n",
       "    <tr>\n",
       "      <th>1</th>\n",
       "      <td>411.40</td>\n",
       "      <td>NaN</td>\n",
       "      <td>NaN</td>\n",
       "      <td>NaN</td>\n",
       "    </tr>\n",
       "    <tr>\n",
       "      <th>2</th>\n",
       "      <td>408.30</td>\n",
       "      <td>NaN</td>\n",
       "      <td>NaN</td>\n",
       "      <td>NaN</td>\n",
       "    </tr>\n",
       "    <tr>\n",
       "      <th>3</th>\n",
       "      <td>404.75</td>\n",
       "      <td>NaN</td>\n",
       "      <td>NaN</td>\n",
       "      <td>NaN</td>\n",
       "    </tr>\n",
       "    <tr>\n",
       "      <th>4</th>\n",
       "      <td>401.05</td>\n",
       "      <td>NaN</td>\n",
       "      <td>NaN</td>\n",
       "      <td>NaN</td>\n",
       "    </tr>\n",
       "    <tr>\n",
       "      <th>...</th>\n",
       "      <td>...</td>\n",
       "      <td>...</td>\n",
       "      <td>...</td>\n",
       "      <td>...</td>\n",
       "    </tr>\n",
       "    <tr>\n",
       "      <th>489</th>\n",
       "      <td>340.75</td>\n",
       "      <td>348.367857</td>\n",
       "      <td>337.199729</td>\n",
       "      <td>359.535985</td>\n",
       "    </tr>\n",
       "    <tr>\n",
       "      <th>490</th>\n",
       "      <td>337.50</td>\n",
       "      <td>346.992857</td>\n",
       "      <td>335.533977</td>\n",
       "      <td>358.451737</td>\n",
       "    </tr>\n",
       "    <tr>\n",
       "      <th>491</th>\n",
       "      <td>340.40</td>\n",
       "      <td>346.017857</td>\n",
       "      <td>334.825854</td>\n",
       "      <td>357.209860</td>\n",
       "    </tr>\n",
       "    <tr>\n",
       "      <th>492</th>\n",
       "      <td>341.55</td>\n",
       "      <td>345.300000</td>\n",
       "      <td>334.364033</td>\n",
       "      <td>356.235967</td>\n",
       "    </tr>\n",
       "    <tr>\n",
       "      <th>493</th>\n",
       "      <td>332.05</td>\n",
       "      <td>343.878571</td>\n",
       "      <td>331.577995</td>\n",
       "      <td>356.179148</td>\n",
       "    </tr>\n",
       "  </tbody>\n",
       "</table>\n",
       "<p>494 rows × 4 columns</p>\n",
       "</div>"
      ],
      "text/plain": [
       "     Stock_Price          MA     LO_band     UP_band\n",
       "0         414.00         NaN         NaN         NaN\n",
       "1         411.40         NaN         NaN         NaN\n",
       "2         408.30         NaN         NaN         NaN\n",
       "3         404.75         NaN         NaN         NaN\n",
       "4         401.05         NaN         NaN         NaN\n",
       "..           ...         ...         ...         ...\n",
       "489       340.75  348.367857  337.199729  359.535985\n",
       "490       337.50  346.992857  335.533977  358.451737\n",
       "491       340.40  346.017857  334.825854  357.209860\n",
       "492       341.55  345.300000  334.364033  356.235967\n",
       "493       332.05  343.878571  331.577995  356.179148\n",
       "\n",
       "[494 rows x 4 columns]"
      ]
     },
     "execution_count": 30,
     "metadata": {},
     "output_type": "execute_result"
    }
   ],
   "source": [
    "data1"
   ]
  },
  {
   "cell_type": "code",
   "execution_count": 31,
   "metadata": {},
   "outputs": [],
   "source": [
    "data1=data1.dropna()"
   ]
  },
  {
   "cell_type": "code",
   "execution_count": 32,
   "metadata": {},
   "outputs": [
    {
     "data": {
      "text/html": [
       "<div>\n",
       "<style scoped>\n",
       "    .dataframe tbody tr th:only-of-type {\n",
       "        vertical-align: middle;\n",
       "    }\n",
       "\n",
       "    .dataframe tbody tr th {\n",
       "        vertical-align: top;\n",
       "    }\n",
       "\n",
       "    .dataframe thead th {\n",
       "        text-align: right;\n",
       "    }\n",
       "</style>\n",
       "<table border=\"1\" class=\"dataframe\">\n",
       "  <thead>\n",
       "    <tr style=\"text-align: right;\">\n",
       "      <th></th>\n",
       "      <th>Stock_Price</th>\n",
       "      <th>MA</th>\n",
       "      <th>LO_band</th>\n",
       "      <th>UP_band</th>\n",
       "    </tr>\n",
       "  </thead>\n",
       "  <tbody>\n",
       "    <tr>\n",
       "      <th>13</th>\n",
       "      <td>410.35</td>\n",
       "      <td>402.457143</td>\n",
       "      <td>382.910085</td>\n",
       "      <td>422.004201</td>\n",
       "    </tr>\n",
       "    <tr>\n",
       "      <th>14</th>\n",
       "      <td>402.35</td>\n",
       "      <td>401.625000</td>\n",
       "      <td>383.237180</td>\n",
       "      <td>420.012820</td>\n",
       "    </tr>\n",
       "    <tr>\n",
       "      <th>15</th>\n",
       "      <td>398.00</td>\n",
       "      <td>400.667857</td>\n",
       "      <td>383.094906</td>\n",
       "      <td>418.240809</td>\n",
       "    </tr>\n",
       "    <tr>\n",
       "      <th>16</th>\n",
       "      <td>398.90</td>\n",
       "      <td>399.996429</td>\n",
       "      <td>382.969822</td>\n",
       "      <td>417.023035</td>\n",
       "    </tr>\n",
       "    <tr>\n",
       "      <th>17</th>\n",
       "      <td>402.60</td>\n",
       "      <td>399.842857</td>\n",
       "      <td>382.962789</td>\n",
       "      <td>416.722925</td>\n",
       "    </tr>\n",
       "    <tr>\n",
       "      <th>...</th>\n",
       "      <td>...</td>\n",
       "      <td>...</td>\n",
       "      <td>...</td>\n",
       "      <td>...</td>\n",
       "    </tr>\n",
       "    <tr>\n",
       "      <th>489</th>\n",
       "      <td>340.75</td>\n",
       "      <td>348.367857</td>\n",
       "      <td>337.199729</td>\n",
       "      <td>359.535985</td>\n",
       "    </tr>\n",
       "    <tr>\n",
       "      <th>490</th>\n",
       "      <td>337.50</td>\n",
       "      <td>346.992857</td>\n",
       "      <td>335.533977</td>\n",
       "      <td>358.451737</td>\n",
       "    </tr>\n",
       "    <tr>\n",
       "      <th>491</th>\n",
       "      <td>340.40</td>\n",
       "      <td>346.017857</td>\n",
       "      <td>334.825854</td>\n",
       "      <td>357.209860</td>\n",
       "    </tr>\n",
       "    <tr>\n",
       "      <th>492</th>\n",
       "      <td>341.55</td>\n",
       "      <td>345.300000</td>\n",
       "      <td>334.364033</td>\n",
       "      <td>356.235967</td>\n",
       "    </tr>\n",
       "    <tr>\n",
       "      <th>493</th>\n",
       "      <td>332.05</td>\n",
       "      <td>343.878571</td>\n",
       "      <td>331.577995</td>\n",
       "      <td>356.179148</td>\n",
       "    </tr>\n",
       "  </tbody>\n",
       "</table>\n",
       "<p>481 rows × 4 columns</p>\n",
       "</div>"
      ],
      "text/plain": [
       "     Stock_Price          MA     LO_band     UP_band\n",
       "13        410.35  402.457143  382.910085  422.004201\n",
       "14        402.35  401.625000  383.237180  420.012820\n",
       "15        398.00  400.667857  383.094906  418.240809\n",
       "16        398.90  399.996429  382.969822  417.023035\n",
       "17        402.60  399.842857  382.962789  416.722925\n",
       "..           ...         ...         ...         ...\n",
       "489       340.75  348.367857  337.199729  359.535985\n",
       "490       337.50  346.992857  335.533977  358.451737\n",
       "491       340.40  346.017857  334.825854  357.209860\n",
       "492       341.55  345.300000  334.364033  356.235967\n",
       "493       332.05  343.878571  331.577995  356.179148\n",
       "\n",
       "[481 rows x 4 columns]"
      ]
     },
     "execution_count": 32,
     "metadata": {},
     "output_type": "execute_result"
    }
   ],
   "source": [
    "data1"
   ]
  },
  {
   "cell_type": "code",
   "execution_count": 33,
   "metadata": {},
   "outputs": [],
   "source": [
    "label_pred=log.predict(data1)"
   ]
  },
  {
   "cell_type": "code",
   "execution_count": 34,
   "metadata": {},
   "outputs": [],
   "source": [
    "calls=[]\n",
    "\n",
    "for e in label_pred:\n",
    "    if(e==0):\n",
    "        calls.append('Buy')\n",
    "    elif(e==1):\n",
    "        calls.append('Hold Buy')\n",
    "    elif(e==2):\n",
    "        calls.append('Hold Short')\n",
    "    else:\n",
    "        calls.append('Short')"
   ]
  },
  {
   "cell_type": "code",
   "execution_count": 40,
   "metadata": {},
   "outputs": [],
   "source": [
    "data1=data1.assign(Calls=calls)"
   ]
  },
  {
   "cell_type": "code",
   "execution_count": 41,
   "metadata": {},
   "outputs": [
    {
     "data": {
      "text/html": [
       "<div>\n",
       "<style scoped>\n",
       "    .dataframe tbody tr th:only-of-type {\n",
       "        vertical-align: middle;\n",
       "    }\n",
       "\n",
       "    .dataframe tbody tr th {\n",
       "        vertical-align: top;\n",
       "    }\n",
       "\n",
       "    .dataframe thead th {\n",
       "        text-align: right;\n",
       "    }\n",
       "</style>\n",
       "<table border=\"1\" class=\"dataframe\">\n",
       "  <thead>\n",
       "    <tr style=\"text-align: right;\">\n",
       "      <th></th>\n",
       "      <th>Stock_Price</th>\n",
       "      <th>MA</th>\n",
       "      <th>LO_band</th>\n",
       "      <th>UP_band</th>\n",
       "      <th>Calls</th>\n",
       "    </tr>\n",
       "  </thead>\n",
       "  <tbody>\n",
       "    <tr>\n",
       "      <th>13</th>\n",
       "      <td>410.35</td>\n",
       "      <td>402.457143</td>\n",
       "      <td>382.910085</td>\n",
       "      <td>422.004201</td>\n",
       "      <td>Hold Short</td>\n",
       "    </tr>\n",
       "    <tr>\n",
       "      <th>14</th>\n",
       "      <td>402.35</td>\n",
       "      <td>401.625000</td>\n",
       "      <td>383.237180</td>\n",
       "      <td>420.012820</td>\n",
       "      <td>Hold Short</td>\n",
       "    </tr>\n",
       "    <tr>\n",
       "      <th>15</th>\n",
       "      <td>398.00</td>\n",
       "      <td>400.667857</td>\n",
       "      <td>383.094906</td>\n",
       "      <td>418.240809</td>\n",
       "      <td>Hold Buy</td>\n",
       "    </tr>\n",
       "    <tr>\n",
       "      <th>16</th>\n",
       "      <td>398.90</td>\n",
       "      <td>399.996429</td>\n",
       "      <td>382.969822</td>\n",
       "      <td>417.023035</td>\n",
       "      <td>Hold Buy</td>\n",
       "    </tr>\n",
       "    <tr>\n",
       "      <th>17</th>\n",
       "      <td>402.60</td>\n",
       "      <td>399.842857</td>\n",
       "      <td>382.962789</td>\n",
       "      <td>416.722925</td>\n",
       "      <td>Hold Short</td>\n",
       "    </tr>\n",
       "    <tr>\n",
       "      <th>...</th>\n",
       "      <td>...</td>\n",
       "      <td>...</td>\n",
       "      <td>...</td>\n",
       "      <td>...</td>\n",
       "      <td>...</td>\n",
       "    </tr>\n",
       "    <tr>\n",
       "      <th>489</th>\n",
       "      <td>340.75</td>\n",
       "      <td>348.367857</td>\n",
       "      <td>337.199729</td>\n",
       "      <td>359.535985</td>\n",
       "      <td>Hold Buy</td>\n",
       "    </tr>\n",
       "    <tr>\n",
       "      <th>490</th>\n",
       "      <td>337.50</td>\n",
       "      <td>346.992857</td>\n",
       "      <td>335.533977</td>\n",
       "      <td>358.451737</td>\n",
       "      <td>Hold Buy</td>\n",
       "    </tr>\n",
       "    <tr>\n",
       "      <th>491</th>\n",
       "      <td>340.40</td>\n",
       "      <td>346.017857</td>\n",
       "      <td>334.825854</td>\n",
       "      <td>357.209860</td>\n",
       "      <td>Hold Buy</td>\n",
       "    </tr>\n",
       "    <tr>\n",
       "      <th>492</th>\n",
       "      <td>341.55</td>\n",
       "      <td>345.300000</td>\n",
       "      <td>334.364033</td>\n",
       "      <td>356.235967</td>\n",
       "      <td>Hold Buy</td>\n",
       "    </tr>\n",
       "    <tr>\n",
       "      <th>493</th>\n",
       "      <td>332.05</td>\n",
       "      <td>343.878571</td>\n",
       "      <td>331.577995</td>\n",
       "      <td>356.179148</td>\n",
       "      <td>Hold Buy</td>\n",
       "    </tr>\n",
       "  </tbody>\n",
       "</table>\n",
       "<p>481 rows × 5 columns</p>\n",
       "</div>"
      ],
      "text/plain": [
       "     Stock_Price          MA     LO_band     UP_band       Calls\n",
       "13        410.35  402.457143  382.910085  422.004201  Hold Short\n",
       "14        402.35  401.625000  383.237180  420.012820  Hold Short\n",
       "15        398.00  400.667857  383.094906  418.240809    Hold Buy\n",
       "16        398.90  399.996429  382.969822  417.023035    Hold Buy\n",
       "17        402.60  399.842857  382.962789  416.722925  Hold Short\n",
       "..           ...         ...         ...         ...         ...\n",
       "489       340.75  348.367857  337.199729  359.535985    Hold Buy\n",
       "490       337.50  346.992857  335.533977  358.451737    Hold Buy\n",
       "491       340.40  346.017857  334.825854  357.209860    Hold Buy\n",
       "492       341.55  345.300000  334.364033  356.235967    Hold Buy\n",
       "493       332.05  343.878571  331.577995  356.179148    Hold Buy\n",
       "\n",
       "[481 rows x 5 columns]"
      ]
     },
     "execution_count": 41,
     "metadata": {},
     "output_type": "execute_result"
    }
   ],
   "source": [
    "data1"
   ]
  },
  {
   "cell_type": "code",
   "execution_count": 42,
   "metadata": {},
   "outputs": [
    {
     "data": {
      "text/plain": [
       "Hold Short    258\n",
       "Hold Buy      190\n",
       "Buy            20\n",
       "Short          13\n",
       "Name: Calls, dtype: int64"
      ]
     },
     "execution_count": 42,
     "metadata": {},
     "output_type": "execute_result"
    }
   ],
   "source": [
    "data1['Calls'].value_counts()"
   ]
  },
  {
   "cell_type": "code",
   "execution_count": 43,
   "metadata": {},
   "outputs": [],
   "source": [
    "# importing the dataset"
   ]
  },
  {
   "cell_type": "code",
   "execution_count": 44,
   "metadata": {},
   "outputs": [],
   "source": [
    "tcs=pd.read_csv('TCS.csv')"
   ]
  },
  {
   "cell_type": "code",
   "execution_count": 45,
   "metadata": {},
   "outputs": [
    {
     "data": {
      "text/plain": [
       "Index(['Symbol', 'Series', 'Date', 'Prev Close', 'Open Price', 'High Price',\n",
       "       'Low Price', 'Last Price', 'Close Price', 'Average Price',\n",
       "       'Total Traded Quantity', 'Turnover', 'No. of Trades', 'Deliverable Qty',\n",
       "       '% Dly Qt to Traded Qty'],\n",
       "      dtype='object')"
      ]
     },
     "execution_count": 45,
     "metadata": {},
     "output_type": "execute_result"
    }
   ],
   "source": [
    "tcs.columns"
   ]
  },
  {
   "cell_type": "code",
   "execution_count": 46,
   "metadata": {},
   "outputs": [],
   "source": [
    "tcs['%OC']=tcs.loc[:,['Open Price','Close Price']].diff(axis=1)['Close Price']/tcs['Open Price']*100\n",
    "tcs['%LH']=tcs.loc[:,['Low Price','High Price']].diff(axis=1)['High Price']/tcs['Low Price']*100\n",
    "\n",
    "tcs['roll_mean']=tcs['Close Price'].pct_change().rolling(5).mean()*100\n",
    "tcs['roll_std']=tcs['Close Price'].pct_change().rolling(5).std()*100\n"
   ]
  },
  {
   "cell_type": "code",
   "execution_count": 47,
   "metadata": {},
   "outputs": [],
   "source": [
    "l2=[]\n",
    "for i in range(len(tcs['Close Price'])):\n",
    "    if(tcs['Close Price'][i+1]>tcs['Close Price'][i]):\n",
    "        l2.append(1)\n",
    "    elif(tcs['Close Price'][i+1]<tcs['Close Price'][i]):\n",
    "        l2.append(-1)    \n",
    "    else:\n",
    "        break"
   ]
  },
  {
   "cell_type": "code",
   "execution_count": 48,
   "metadata": {},
   "outputs": [],
   "source": [
    "tcs['Action']=pd.Series(l2)\n"
   ]
  },
  {
   "cell_type": "code",
   "execution_count": 49,
   "metadata": {},
   "outputs": [],
   "source": [
    "tcs=tcs.dropna()"
   ]
  },
  {
   "cell_type": "code",
   "execution_count": 50,
   "metadata": {},
   "outputs": [],
   "source": [
    "X=tcs.loc[:,['%OC','%LH','roll_mean','roll_std']].values\n",
    "y=tcs.iloc[:,-1]\n"
   ]
  },
  {
   "cell_type": "code",
   "execution_count": 51,
   "metadata": {},
   "outputs": [],
   "source": [
    "from sklearn.ensemble import RandomForestClassifier\n",
    "rand=RandomForestClassifier()\n",
    "\n",
    "from sklearn.model_selection import train_test_split\n",
    "X_train,X_test,y_train,y_test=train_test_split(X,y)\n",
    "\n"
   ]
  },
  {
   "cell_type": "code",
   "execution_count": 52,
   "metadata": {},
   "outputs": [
    {
     "data": {
      "text/plain": [
       "1.0"
      ]
     },
     "execution_count": 52,
     "metadata": {},
     "output_type": "execute_result"
    }
   ],
   "source": [
    "rand.fit(X_train,y_train)\n",
    "\n",
    "rand.score(X_train,y_train)"
   ]
  },
  {
   "cell_type": "code",
   "execution_count": 53,
   "metadata": {},
   "outputs": [
    {
     "data": {
      "text/plain": [
       "0.4766355140186916"
      ]
     },
     "execution_count": 53,
     "metadata": {},
     "output_type": "execute_result"
    }
   ],
   "source": [
    "rand.score(X_test,y_test)\n"
   ]
  },
  {
   "cell_type": "code",
   "execution_count": 54,
   "metadata": {},
   "outputs": [
    {
     "data": {
      "text/plain": [
       "[<matplotlib.lines.Line2D at 0x11369a78790>]"
      ]
     },
     "execution_count": 54,
     "metadata": {},
     "output_type": "execute_result"
    },
    {
     "data": {
      "image/png": "[encoded data removed]",
      "text/plain": [
       "<Figure size 1080x576 with 1 Axes>"
      ]
     },
     "metadata": {
      "needs_background": "light"
     },
     "output_type": "display_data"
    }
   ],
   "source": [
    "# plot of cumulative return \n",
    "plt.figure(figsize=(15,8))\n",
    "tcs['cum_return']=(tcs['Close Price'].pct_change()+1).cumprod()\n",
    "plt.plot(tcs['cum_return'])\n"
   ]
  }
 ],
 "metadata": {
  "kernelspec": {
   "display_name": "Python 3",
   "language": "python",
   "name": "python3"
  },
  "language_info": {
   "codemirror_mode": {
    "name": "ipython",
    "version": 3
   },
   "file_extension": ".py",
   "mimetype": "text/x-python",
   "name": "python",
   "nbconvert_exporter": "python",
   "pygments_lexer": "ipython3",
   "version": "3.8.3"
  }
 },
 "nbformat": 4,
 "nbformat_minor": 4
}
